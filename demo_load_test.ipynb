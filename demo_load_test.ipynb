{
 "cells": [
  {
   "cell_type": "code",
   "execution_count": 2,
   "metadata": {},
   "outputs": [],
   "source": [
    "import requests\n",
    "import aiohttp\n",
    "import asyncio\n",
    "import time\n",
    "import numpy as np"
   ]
  },
  {
   "cell_type": "code",
   "execution_count": 3,
   "metadata": {},
   "outputs": [],
   "source": [
    "# URL сервиса\n",
    "url = 'http://localhost/find_simular_images/'\n",
    "\n",
    "# Путь к тестовой картинке\n",
    "image_path = 'tests/test_image.jpg'"
   ]
  },
  {
   "cell_type": "code",
   "execution_count": 5,
   "metadata": {},
   "outputs": [],
   "source": [
    "# Асинхронная функция для отправки запроса с картинкой\n",
    "async def send_image_request(session, url, image_path):\n",
    "    with open(image_path, 'rb') as image_file:\n",
    "        start_time = time.time()\n",
    "        form = aiohttp.FormData()\n",
    "        form.add_field('image', image_file, filename='test_image.jpg', content_type='image/jpeg')\n",
    "        async with session.post(url, data=form) as response:\n",
    "            return response.status, time.time() - start_time\n",
    "        \n",
    "# Асинхронная функция для проверки нагрузки\n",
    "async def load_test(url, image_path, duration=60):\n",
    "    start_time = time.time()\n",
    "    request_count = 0\n",
    "    ok_count = 0\n",
    "    iter_duration_list = []\n",
    "\n",
    "    async with aiohttp.ClientSession() as session:\n",
    "        while time.time() - start_time < duration:\n",
    "            status, iter_duration = await send_image_request(session, url, image_path)\n",
    "            iter_duration_list.append(iter_duration)\n",
    "            if status == 200:\n",
    "                ok_count += 1\n",
    "            request_count += 1\n",
    "    print(f\"Total requests made: {request_count}\")\n",
    "    print(f\"Successful requests made: {ok_count}\")\n",
    "    print(f\"Average response time, s: {np.mean(iter_duration_list)}\")"
   ]
  },
  {
   "cell_type": "code",
   "execution_count": 6,
   "metadata": {},
   "outputs": [
    {
     "ename": "RuntimeError",
     "evalue": "asyncio.run() cannot be called from a running event loop",
     "output_type": "error",
     "traceback": [
      "\u001b[1;31m---------------------------------------------------------------------------\u001b[0m",
      "\u001b[1;31mRuntimeError\u001b[0m                              Traceback (most recent call last)",
      "Cell \u001b[1;32mIn[6], line 2\u001b[0m\n\u001b[0;32m      1\u001b[0m \u001b[38;5;66;03m# Запуск асинхронной функции\u001b[39;00m\n\u001b[1;32m----> 2\u001b[0m \u001b[43masyncio\u001b[49m\u001b[38;5;241;43m.\u001b[39;49m\u001b[43mrun\u001b[49m\u001b[43m(\u001b[49m\u001b[43mload_test\u001b[49m\u001b[43m(\u001b[49m\u001b[43murl\u001b[49m\u001b[43m,\u001b[49m\u001b[43m \u001b[49m\u001b[43mimage_path\u001b[49m\u001b[43m)\u001b[49m\u001b[43m)\u001b[49m\n",
      "File \u001b[1;32mc:\\Users\\slesa\\AppData\\Local\\Programs\\Python\\Python312\\Lib\\asyncio\\runners.py:190\u001b[0m, in \u001b[0;36mrun\u001b[1;34m(main, debug, loop_factory)\u001b[0m\n\u001b[0;32m    161\u001b[0m \u001b[38;5;250m\u001b[39m\u001b[38;5;124;03m\"\"\"Execute the coroutine and return the result.\u001b[39;00m\n\u001b[0;32m    162\u001b[0m \n\u001b[0;32m    163\u001b[0m \u001b[38;5;124;03mThis function runs the passed coroutine, taking care of\u001b[39;00m\n\u001b[1;32m   (...)\u001b[0m\n\u001b[0;32m    186\u001b[0m \u001b[38;5;124;03m    asyncio.run(main())\u001b[39;00m\n\u001b[0;32m    187\u001b[0m \u001b[38;5;124;03m\"\"\"\u001b[39;00m\n\u001b[0;32m    188\u001b[0m \u001b[38;5;28;01mif\u001b[39;00m events\u001b[38;5;241m.\u001b[39m_get_running_loop() \u001b[38;5;129;01mis\u001b[39;00m \u001b[38;5;129;01mnot\u001b[39;00m \u001b[38;5;28;01mNone\u001b[39;00m:\n\u001b[0;32m    189\u001b[0m     \u001b[38;5;66;03m# fail fast with short traceback\u001b[39;00m\n\u001b[1;32m--> 190\u001b[0m     \u001b[38;5;28;01mraise\u001b[39;00m \u001b[38;5;167;01mRuntimeError\u001b[39;00m(\n\u001b[0;32m    191\u001b[0m         \u001b[38;5;124m\"\u001b[39m\u001b[38;5;124masyncio.run() cannot be called from a running event loop\u001b[39m\u001b[38;5;124m\"\u001b[39m)\n\u001b[0;32m    193\u001b[0m \u001b[38;5;28;01mwith\u001b[39;00m Runner(debug\u001b[38;5;241m=\u001b[39mdebug, loop_factory\u001b[38;5;241m=\u001b[39mloop_factory) \u001b[38;5;28;01mas\u001b[39;00m runner:\n\u001b[0;32m    194\u001b[0m     \u001b[38;5;28;01mreturn\u001b[39;00m runner\u001b[38;5;241m.\u001b[39mrun(main)\n",
      "\u001b[1;31mRuntimeError\u001b[0m: asyncio.run() cannot be called from a running event loop"
     ]
    }
   ],
   "source": [
    "# Запуск асинхронной функции\n",
    "asyncio.run(load_test(url, image_path))"
   ]
  },
  {
   "cell_type": "code",
   "execution_count": 30,
   "metadata": {},
   "outputs": [],
   "source": [
    "# Функция для отправки запроса с картинкой\n",
    "def send_image_request(url, image_path):\n",
    "    with open(image_path, 'rb') as image_file:\n",
    "        start_time = time.time()\n",
    "        response = requests.post(url, files={'image': image_file})\n",
    "        return response, time.time() - start_time"
   ]
  },
  {
   "cell_type": "code",
   "execution_count": 23,
   "metadata": {},
   "outputs": [
    {
     "name": "stdout",
     "output_type": "stream",
     "text": [
      "Total requests made: 11\n",
      "Successful requests made: 11\n",
      "Average response time, s: 5.559310067783702\n"
     ]
    }
   ],
   "source": [
    "# Проверка нагрузки\n",
    "start_time = time.time()\n",
    "request_count = 0\n",
    "ok_count = 0\n",
    "duration = 60  # Длительность тестирования в секундах\n",
    "\n",
    "# Лог для сохранения результатов\n",
    "results = []\n",
    "iter_duration_list = []\n",
    "\n",
    "while time.time() - start_time < duration:\n",
    "    response, iter_duration = send_image_request(url, image_path)\n",
    "    iter_duration_list.append(iter_duration)\n",
    "    if response.status_code == 200:\n",
    "        ok_count += 1\n",
    "    request_count += 1\n",
    "\n",
    "print(f\"Total requests made: {request_count}\")\n",
    "print(f\"Successful requests made: {ok_count}\")\n",
    "print(f\"Average response time, s: {np.mean(iter_duration_list)}\")"
   ]
  }
 ],
 "metadata": {
  "kernelspec": {
   "display_name": "venv",
   "language": "python",
   "name": "python3"
  },
  "language_info": {
   "codemirror_mode": {
    "name": "ipython",
    "version": 3
   },
   "file_extension": ".py",
   "mimetype": "text/x-python",
   "name": "python",
   "nbconvert_exporter": "python",
   "pygments_lexer": "ipython3",
   "version": "3.12.0"
  }
 },
 "nbformat": 4,
 "nbformat_minor": 2
}
