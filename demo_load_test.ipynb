{
 "cells": [
  {
   "cell_type": "code",
   "execution_count": 28,
   "metadata": {},
   "outputs": [],
   "source": [
    "import requests\n",
    "import time\n",
    "import numpy as np"
   ]
  },
  {
   "cell_type": "code",
   "execution_count": 29,
   "metadata": {},
   "outputs": [],
   "source": [
    "# URL сервиса\n",
    "url = 'http://localhost/find_simular_images/'\n",
    "\n",
    "# Путь к тестовой картинке\n",
    "image_path = 'tests/test_image.jpg'"
   ]
  },
  {
   "cell_type": "code",
   "execution_count": 30,
   "metadata": {},
   "outputs": [],
   "source": [
    "# Функция для отправки запроса с картинкой\n",
    "def send_image_request(url, image_path):\n",
    "    with open(image_path, 'rb') as image_file:\n",
    "        start_time = time.time()\n",
    "        response = requests.post(url, files={'image': image_file})\n",
    "        return response, time.time() - start_time"
   ]
  },
  {
   "cell_type": "code",
   "execution_count": 23,
   "metadata": {},
   "outputs": [
    {
     "name": "stdout",
     "output_type": "stream",
     "text": [
      "Total requests made: 11\n",
      "Successful requests made: 11\n",
      "Average response time, s: 5.559310067783702\n"
     ]
    }
   ],
   "source": [
    "# Проверка нагрузки\n",
    "start_time = time.time()\n",
    "request_count = 0\n",
    "ok_count = 0\n",
    "duration = 60  # Длительность тестирования в секундах\n",
    "\n",
    "# Лог для сохранения результатов\n",
    "results = []\n",
    "iter_duration_list = []\n",
    "\n",
    "while time.time() - start_time < duration:\n",
    "    response, iter_duration = send_image_request(url, image_path)\n",
    "    iter_duration_list.append(iter_duration)\n",
    "    if response.status_code == 200:\n",
    "        ok_count += 1\n",
    "    request_count += 1\n",
    "\n",
    "print(f\"Total requests made: {request_count}\")\n",
    "print(f\"Successful requests made: {ok_count}\")\n",
    "print(f\"Average response time, s: {np.mean(iter_duration_list)}\")"
   ]
  }
 ],
 "metadata": {
  "kernelspec": {
   "display_name": "venv",
   "language": "python",
   "name": "python3"
  },
  "language_info": {
   "codemirror_mode": {
    "name": "ipython",
    "version": 3
   },
   "file_extension": ".py",
   "mimetype": "text/x-python",
   "name": "python",
   "nbconvert_exporter": "python",
   "pygments_lexer": "ipython3",
   "version": "3.12.0"
  }
 },
 "nbformat": 4,
 "nbformat_minor": 2
}
